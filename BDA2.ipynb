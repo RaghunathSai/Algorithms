{
  "nbformat": 4,
  "nbformat_minor": 0,
  "metadata": {
    "colab": {
      "name": "BDA2.ipynb",
      "provenance": [],
      "collapsed_sections": [],
      "mount_file_id": "1P4usDg0BzDiPl5z88FIIxw1-xMTV1aGc",
      "authorship_tag": "ABX9TyOP2HAxV+KrtAh+7IoT0O6q",
      "include_colab_link": true
    },
    "kernelspec": {
      "name": "python3",
      "display_name": "Python 3"
    },
    "accelerator": "GPU"
  },
  "cells": [
    {
      "cell_type": "markdown",
      "metadata": {
        "id": "view-in-github",
        "colab_type": "text"
      },
      "source": [
        "<a href=\"https://colab.research.google.com/github/RaghunathSai/Algorithms/blob/master/BDA2.ipynb\" target=\"_parent\"><img src=\"https://colab.research.google.com/assets/colab-badge.svg\" alt=\"Open In Colab\"/></a>"
      ]
    },
    {
      "cell_type": "code",
      "metadata": {
        "id": "t_1_NQ7LK4fG"
      },
      "source": [
        "import os\n",
        "os.environ['KAGGLE_CONFIG_DIR'] = \"/content/drive/MyDrive/Kaggle\"\n",
        "# /content/gdrive/My Drive/Kaggle is the path where kaggle.json is present in the Google Drive"
      ],
      "execution_count": null,
      "outputs": []
    },
    {
      "cell_type": "code",
      "metadata": {
        "colab": {
          "base_uri": "https://localhost:8080/"
        },
        "id": "DLeT3Xx0K51o",
        "outputId": "ca9fc337-2e3e-4ee7-ec2e-15a72ac30b57"
      },
      "source": [
        "#changing the working directory\n",
        "%cd /content/drive/MyDrive/Kaggle\n",
        "#Check the present working directory using pwd command"
      ],
      "execution_count": null,
      "outputs": [
        {
          "output_type": "stream",
          "text": [
            "/content/drive/MyDrive/Kaggle\n"
          ],
          "name": "stdout"
        }
      ]
    },
    {
      "cell_type": "code",
      "metadata": {
        "colab": {
          "base_uri": "https://localhost:8080/"
        },
        "id": "RTHUX8aoK56U",
        "outputId": "795a2413-7cbe-4008-83cd-ecb1b28eb6f6"
      },
      "source": [
        "!kaggle datasets download -d jhashanku007/devnagri-hindi-dataset"
      ],
      "execution_count": null,
      "outputs": [
        {
          "output_type": "stream",
          "text": [
            "Downloading devnagri-hindi-dataset.zip to /content/drive/My Drive/Kaggle\n",
            " 99% 157M/159M [00:01<00:00, 124MB/s]\n",
            "100% 159M/159M [00:01<00:00, 96.9MB/s]\n"
          ],
          "name": "stdout"
        }
      ]
    },
    {
      "cell_type": "code",
      "metadata": {
        "id": "6MqoYKuJNz4f"
      },
      "source": [
        "#unzipping the zip files and deleting the zip files\n",
        "!unzip \\*.zip  && rm *.zip"
      ],
      "execution_count": null,
      "outputs": []
    },
    {
      "cell_type": "code",
      "metadata": {
        "colab": {
          "base_uri": "https://localhost:8080/"
        },
        "id": "QM3MIm5tmiQa",
        "outputId": "598f8a37-b4e2-4438-be66-6b9bdff1480b"
      },
      "source": [
        "%cd /content/drive/MyDrive/Kaggle/DevanagariHandwrittenCharacterDataset/"
      ],
      "execution_count": null,
      "outputs": [
        {
          "output_type": "stream",
          "text": [
            "/content/drive/MyDrive/Kaggle/DevanagariHandwrittenCharacterDataset\n"
          ],
          "name": "stdout"
        }
      ]
    },
    {
      "cell_type": "code",
      "metadata": {
        "colab": {
          "base_uri": "https://localhost:8080/"
        },
        "id": "qSV3oXxyK5-f",
        "outputId": "02e11373-2e99-4a88-9a56-9c97934101dc"
      },
      "source": [
        "!ls"
      ],
      "execution_count": null,
      "outputs": [
        {
          "output_type": "stream",
          "text": [
            "Model-1.h5  Model-3.h5\t    Test   X_test.csv\tY_test.csv\n",
            "Model-2.h5  References.npy  Train  X_train.csv\tY_train.csv\n"
          ],
          "name": "stdout"
        }
      ]
    },
    {
      "cell_type": "code",
      "metadata": {
        "id": "doUEaYJXRJ6m"
      },
      "source": [
        "import numpy as np\n",
        "import matplotlib.pyplot as plt\n",
        "import os\n",
        "import keras\n",
        "from keras.models import *\n",
        "from keras.layers import *\n",
        "from keras.optimizers import *\n",
        "from keras.utils import *\n",
        "from keras.optimizers import Adam\n",
        "import pandas as pd\n",
        "import skimage.io as io\n",
        "import cv2\n",
        "from PIL import Image\n",
        "from sklearn.model_selection import train_test_split\n",
        "from sklearn.model_selection import train_test_split\n",
        "from sklearn.utils import shuffle"
      ],
      "execution_count": null,
      "outputs": []
    },
    {
      "cell_type": "code",
      "metadata": {
        "id": "mCfy-myOmdsI"
      },
      "source": [
        "train_dir = os.listdir('Train')\n",
        "test_dir = os.listdir('Test')"
      ],
      "execution_count": null,
      "outputs": []
    },
    {
      "cell_type": "code",
      "metadata": {
        "id": "5IwT7CZKRLYs"
      },
      "source": [
        "def create_train_data():\n",
        "    ref = {}\n",
        "    X_train = []\n",
        "    Y_train = []\n",
        "    for i in range(0,10,1):\n",
        "        p = 37+i\n",
        "        ref[p] = i\n",
        "    for names in train_dir:\n",
        "        x = names.split('_')\n",
        "        if x[0]=='character':\n",
        "            ref[int(x[1])] = x[2]\n",
        "        di = 'Train/'+names\n",
        "        images = os.listdir(di)\n",
        "        for files in images:\n",
        "            files = di+'/'+files\n",
        "            img = io.imread(files)\n",
        "            X_train.append(img)\n",
        "            if x[0]=='character':\n",
        "                Y_train.append(int(x[1]))\n",
        "            elif x[0]=='digit':\n",
        "                Y_train.append(37 + int(x[1]))\n",
        "    X_train = np.array(X_train)\n",
        "    Y_train = np.asarray(Y_train)\n",
        "    return X_train, Y_train, ref"
      ],
      "execution_count": null,
      "outputs": []
    },
    {
      "cell_type": "code",
      "metadata": {
        "id": "bEAqGEwpRLSK"
      },
      "source": [
        "X_train, Y_train, ref = create_train_data()"
      ],
      "execution_count": null,
      "outputs": []
    },
    {
      "cell_type": "code",
      "metadata": {
        "id": "2SBkXJOoRLVZ"
      },
      "source": [
        "def create_test_data():\n",
        "    X_test = []\n",
        "    Y_test = []\n",
        "    for names in test_dir:\n",
        "        x = names.split('_')\n",
        "        di = 'Test/'+names\n",
        "        images = os.listdir(di)\n",
        "        for files in images:\n",
        "            files = di+'/'+files\n",
        "            img = io.imread(files)\n",
        "            X_test.append(img)\n",
        "            if x[0]=='character':\n",
        "                Y_test.append(int(x[1]))\n",
        "            elif x[0]=='digit':\n",
        "                Y_test.append(37 + int(x[1]))\n",
        "    X_test = np.array(X_test)\n",
        "    Y_test = np.asarray(Y_test)\n",
        "    return X_test, Y_test"
      ],
      "execution_count": null,
      "outputs": []
    },
    {
      "cell_type": "code",
      "metadata": {
        "id": "S-sPlZwyUdfR"
      },
      "source": [
        "X_test, Y_test = create_test_data()"
      ],
      "execution_count": null,
      "outputs": []
    },
    {
      "cell_type": "code",
      "metadata": {
        "id": "xsiZbpUbRLPB",
        "colab": {
          "base_uri": "https://localhost:8080/"
        },
        "outputId": "c9e3152b-284c-40a8-93e7-a23ed1f1c366"
      },
      "source": [
        "X_train = X_train.reshape([78200,-1])\n",
        "print(X_train.shape)\n",
        "df = pd.DataFrame(X_train)\n",
        "df.to_csv('X_train.csv')"
      ],
      "execution_count": null,
      "outputs": [
        {
          "output_type": "stream",
          "text": [
            "(78200, 1024)\n"
          ],
          "name": "stdout"
        }
      ]
    },
    {
      "cell_type": "code",
      "metadata": {
        "id": "FwNBVIbiRLL_",
        "colab": {
          "base_uri": "https://localhost:8080/"
        },
        "outputId": "d4bd093b-ea87-4ec1-cc7b-23c93f0a5e0c"
      },
      "source": [
        "print(X_test.shape)\n",
        "X_test = X_test.reshape([13800,1024])\n",
        "print(X_test.shape)\n",
        "df = pd.DataFrame(X_test)\n",
        "df.to_csv('X_test.csv')"
      ],
      "execution_count": null,
      "outputs": [
        {
          "output_type": "stream",
          "text": [
            "(13800, 32, 32)\n",
            "(13800, 1024)\n"
          ],
          "name": "stdout"
        }
      ]
    },
    {
      "cell_type": "code",
      "metadata": {
        "id": "4VJXEUkeRLIk",
        "colab": {
          "base_uri": "https://localhost:8080/"
        },
        "outputId": "067a135d-766c-4a1d-9836-a627ac9da080"
      },
      "source": [
        "Y_train = Y_train.reshape([78200,-1])\n",
        "print(Y_train.shape)\n",
        "df = pd.DataFrame(Y_train)\n",
        "df.to_csv('Y_train.csv')"
      ],
      "execution_count": null,
      "outputs": [
        {
          "output_type": "stream",
          "text": [
            "(78200, 1)\n"
          ],
          "name": "stdout"
        }
      ]
    },
    {
      "cell_type": "code",
      "metadata": {
        "id": "iuJxkur_RLFD",
        "colab": {
          "base_uri": "https://localhost:8080/"
        },
        "outputId": "e0415a82-99a2-4109-cf53-30836a303f23"
      },
      "source": [
        "Y_test = Y_test.reshape([13800,-1])\n",
        "print(Y_test.shape)\n",
        "df = pd.DataFrame(Y_test)\n",
        "df.to_csv('Y_test.csv')"
      ],
      "execution_count": null,
      "outputs": [
        {
          "output_type": "stream",
          "text": [
            "(13800, 1)\n"
          ],
          "name": "stdout"
        }
      ]
    },
    {
      "cell_type": "code",
      "metadata": {
        "id": "aYTE5ThuRLBk"
      },
      "source": [
        "np.save('References.npy',ref)"
      ],
      "execution_count": null,
      "outputs": []
    },
    {
      "cell_type": "code",
      "metadata": {
        "id": "Vh8hEn2pRK6_",
        "colab": {
          "base_uri": "https://localhost:8080/"
        },
        "outputId": "4f852c89-7ebb-4ffc-8b6c-01cd04f94124"
      },
      "source": [
        "#os.chdir('/content/drive/MyDrive/Kaggle/Hindi Handwritten Character Dataset')\n",
        "os.listdir()"
      ],
      "execution_count": null,
      "outputs": [
        {
          "output_type": "execute_result",
          "data": {
            "text/plain": [
              "['Test',\n",
              " 'Train',\n",
              " 'X_train.csv',\n",
              " 'X_test.csv',\n",
              " 'Y_train.csv',\n",
              " 'Y_test.csv',\n",
              " 'References.npy',\n",
              " 'Model-2.h5']"
            ]
          },
          "metadata": {
            "tags": []
          },
          "execution_count": 10
        }
      ]
    },
    {
      "cell_type": "code",
      "metadata": {
        "id": "t99yeuZqRK4E"
      },
      "source": [
        "X_train = pd.read_csv('X_train.csv')\n",
        "X_train = X_train.drop(X_train.columns[0], axis = 1)\n",
        "X_train = np.array(X_train)"
      ],
      "execution_count": null,
      "outputs": []
    },
    {
      "cell_type": "code",
      "metadata": {
        "id": "CKG7SLvKRK1N"
      },
      "source": [
        "Y_train = pd.read_csv('Y_train.csv')\n",
        "Y_train = Y_train.drop(Y_train.columns[0], axis = 1)\n",
        "Y_train = np.array(Y_train)"
      ],
      "execution_count": null,
      "outputs": []
    },
    {
      "cell_type": "code",
      "metadata": {
        "id": "3iY5m9KRRKyO"
      },
      "source": [
        "X_test = pd.read_csv('X_test.csv')\n",
        "X_test = X_test.drop(X_test.columns[0], axis = 1)\n",
        "X_test = np.array(X_test)"
      ],
      "execution_count": null,
      "outputs": []
    },
    {
      "cell_type": "code",
      "metadata": {
        "id": "lVYL_cuRRKvA"
      },
      "source": [
        "Y_test = pd.read_csv('Y_test.csv')\n",
        "Y_test = Y_test.drop(Y_test.columns[0], axis = 1)\n",
        "Y_test = np.array(Y_test)"
      ],
      "execution_count": null,
      "outputs": []
    },
    {
      "cell_type": "code",
      "metadata": {
        "id": "LrqCRK7SRsHQ",
        "colab": {
          "base_uri": "https://localhost:8080/"
        },
        "outputId": "2daf4593-a882-4de8-fd5b-c44f3d34d97e"
      },
      "source": [
        "X_train = X_train.reshape((78200,32,32,1))\n",
        "print(X_train.shape)\n",
        "Y_train = Y_train.reshape((78200,1))\n",
        "print(Y_train.shape)\n",
        "X_test = X_test.reshape((13800,32,32,1))\n",
        "print(X_test.shape)\n",
        "Y_test = Y_test.reshape((13800,1))\n",
        "print(Y_test.shape)"
      ],
      "execution_count": null,
      "outputs": [
        {
          "output_type": "stream",
          "text": [
            "(78200, 32, 32, 1)\n",
            "(78200, 1)\n",
            "(13800, 32, 32, 1)\n",
            "(13800, 1)\n"
          ],
          "name": "stdout"
        }
      ]
    },
    {
      "cell_type": "code",
      "metadata": {
        "id": "fHblef_JRr_U",
        "colab": {
          "base_uri": "https://localhost:8080/"
        },
        "outputId": "1daa5762-c0cb-4686-e938-ed1864e5ffc1"
      },
      "source": [
        "#ref = np.load('References.npy').item()\n",
        "ref = {1: 'ka', 2: 'kha', 3: 'ga', 4: 'gha', 5: 'kna', 6: 'cha', 7: 'chha', 8: 'ja', 9: 'jha', 10: 'yna', 11: 'taamatar', 12: 'thaa', 13: 'daa', 14: 'dhaa', 15: 'adna', 16: 'tabala', 17: 'tha', 18: 'da', 19: 'dha', 20: 'na', 21: 'pa', 22: 'pha', 23: 'ba', 24: 'bha', 25: 'ma', 26: 'yaw', 27: 'ra', 28: 'la', 29: 'waw', 30: 'motosaw', 31: 'petchiryakha', 32: 'patalosaw', 33: 'ha', 34: 'chhya', 35: 'tra', 36: 'gya', 37: 0, 38: 1, 39: 2, 40: 3, 41: 4, 42: 5, 43: 6, 44: 7, 45: 8, 46: 9}\n",
        "print(ref)"
      ],
      "execution_count": null,
      "outputs": [
        {
          "output_type": "stream",
          "text": [
            "{1: 'ka', 2: 'kha', 3: 'ga', 4: 'gha', 5: 'kna', 6: 'cha', 7: 'chha', 8: 'ja', 9: 'jha', 10: 'yna', 11: 'taamatar', 12: 'thaa', 13: 'daa', 14: 'dhaa', 15: 'adna', 16: 'tabala', 17: 'tha', 18: 'da', 19: 'dha', 20: 'na', 21: 'pa', 22: 'pha', 23: 'ba', 24: 'bha', 25: 'ma', 26: 'yaw', 27: 'ra', 28: 'la', 29: 'waw', 30: 'motosaw', 31: 'petchiryakha', 32: 'patalosaw', 33: 'ha', 34: 'chhya', 35: 'tra', 36: 'gya', 37: 0, 38: 1, 39: 2, 40: 3, 41: 4, 42: 5, 43: 6, 44: 7, 45: 8, 46: 9}\n"
          ],
          "name": "stdout"
        }
      ]
    },
    {
      "cell_type": "code",
      "metadata": {
        "id": "Wn0n-xGoRr4f"
      },
      "source": [
        "X_train = X_train/255\n",
        "X_test = X_test/255"
      ],
      "execution_count": null,
      "outputs": []
    },
    {
      "cell_type": "code",
      "metadata": {
        "id": "86Kd5Nh2Rw2A"
      },
      "source": [
        "X_train, Y_train = shuffle(X_train, Y_train, random_state = 2)\n",
        "X_test, Y_test = shuffle(X_test, Y_test, random_state = 0)"
      ],
      "execution_count": null,
      "outputs": []
    },
    {
      "cell_type": "code",
      "metadata": {
        "id": "9hxq8dTfRwwt"
      },
      "source": [
        "#plt.imshow(X_test[0])\n",
        "#import tensorflow as tf\n",
        "#plt.imshow( tf.shape( tf.squeeze(X_test[0]) ) )\n",
        "#print(ref[int(Y_test[0])])"
      ],
      "execution_count": null,
      "outputs": []
    },
    {
      "cell_type": "code",
      "metadata": {
        "id": "9MfabcBrRwsF",
        "colab": {
          "base_uri": "https://localhost:8080/"
        },
        "outputId": "d45e2855-70d5-4481-f8d4-ae9737a52a63"
      },
      "source": [
        "X_test, X_val, Y_test, Y_val = train_test_split(X_test, Y_test, test_size = 0.6, random_state = 1)\n",
        "print(X_test.shape)\n",
        "print(X_val.shape)"
      ],
      "execution_count": null,
      "outputs": [
        {
          "output_type": "stream",
          "text": [
            "(5520, 32, 32, 1)\n",
            "(8280, 32, 32, 1)\n"
          ],
          "name": "stdout"
        }
      ]
    },
    {
      "cell_type": "code",
      "metadata": {
        "id": "r3v28n1bR1sk",
        "colab": {
          "base_uri": "https://localhost:8080/"
        },
        "outputId": "6a67301c-4d58-471b-ea39-9871baabe232"
      },
      "source": [
        "Y_test = to_categorical(Y_test)\n",
        "print(Y_test.shape)"
      ],
      "execution_count": null,
      "outputs": [
        {
          "output_type": "stream",
          "text": [
            "(5520, 47)\n"
          ],
          "name": "stdout"
        }
      ]
    },
    {
      "cell_type": "code",
      "metadata": {
        "id": "qBg3TuXDR1lB",
        "colab": {
          "base_uri": "https://localhost:8080/"
        },
        "outputId": "4dcedbfc-0d1d-497a-a0e0-7839e4b99f4c"
      },
      "source": [
        "Y_val = to_categorical(Y_val)\n",
        "print(Y_val.shape)"
      ],
      "execution_count": null,
      "outputs": [
        {
          "output_type": "stream",
          "text": [
            "(8280, 47)\n"
          ],
          "name": "stdout"
        }
      ]
    },
    {
      "cell_type": "code",
      "metadata": {
        "id": "VaDqR56FR6Vi",
        "colab": {
          "base_uri": "https://localhost:8080/"
        },
        "outputId": "286c371a-052d-4993-b8fc-9ff44a4784df"
      },
      "source": [
        "Y_train = to_categorical(Y_train)\n",
        "print(Y_train.shape)"
      ],
      "execution_count": null,
      "outputs": [
        {
          "output_type": "stream",
          "text": [
            "(78200, 47)\n"
          ],
          "name": "stdout"
        }
      ]
    },
    {
      "cell_type": "code",
      "metadata": {
        "colab": {
          "base_uri": "https://localhost:8080/"
        },
        "id": "S85PcxqNoU6j",
        "outputId": "dee2b2d0-0b29-4c2e-d831-b5b3810adcbd"
      },
      "source": [
        "model = Sequential()\n",
        "model.add(Conv2D(64, (3, 3), padding='same', input_shape=(32, 32, 1), activation = 'relu'))\n",
        "model.add(Conv2D(64, (3, 3), activation = 'relu'))\n",
        "model.add(MaxPooling2D(pool_size=(2, 2)))\n",
        "model.add(Dropout(0.5))\n",
        "\n",
        "model.add(Conv2D(128, (3, 3), activation = 'relu'))\n",
        "model.add(Conv2D(128, (3, 3), activation = 'relu'))\n",
        "model.add(MaxPooling2D(pool_size=(2, 2)))\n",
        "model.add(Dropout(0.5))\n",
        "\n",
        "model.add(Conv2D(256, (3, 3), activation = 'relu'))\n",
        "model.add(Conv2D(256, (3, 3), activation = 'relu'))\n",
        "model.add(BatchNormalization())\n",
        "model.add(Dropout(0.5))\n",
        "\n",
        "model.add(Flatten())\n",
        "model.add(Dense(100, activation='relu'))\n",
        "model.add(Dropout(0.5))\n",
        "model.add(BatchNormalization())\n",
        "model.add(Dense(47, activation='softmax'))\n",
        "\n",
        "print(model.summary())"
      ],
      "execution_count": null,
      "outputs": [
        {
          "output_type": "stream",
          "text": [
            "Model: \"sequential\"\n",
            "_________________________________________________________________\n",
            "Layer (type)                 Output Shape              Param #   \n",
            "=================================================================\n",
            "conv2d (Conv2D)              (None, 32, 32, 64)        640       \n",
            "_________________________________________________________________\n",
            "conv2d_1 (Conv2D)            (None, 30, 30, 64)        36928     \n",
            "_________________________________________________________________\n",
            "max_pooling2d (MaxPooling2D) (None, 15, 15, 64)        0         \n",
            "_________________________________________________________________\n",
            "dropout (Dropout)            (None, 15, 15, 64)        0         \n",
            "_________________________________________________________________\n",
            "conv2d_2 (Conv2D)            (None, 13, 13, 128)       73856     \n",
            "_________________________________________________________________\n",
            "conv2d_3 (Conv2D)            (None, 11, 11, 128)       147584    \n",
            "_________________________________________________________________\n",
            "max_pooling2d_1 (MaxPooling2 (None, 5, 5, 128)         0         \n",
            "_________________________________________________________________\n",
            "dropout_1 (Dropout)          (None, 5, 5, 128)         0         \n",
            "_________________________________________________________________\n",
            "conv2d_4 (Conv2D)            (None, 3, 3, 256)         295168    \n",
            "_________________________________________________________________\n",
            "conv2d_5 (Conv2D)            (None, 1, 1, 256)         590080    \n",
            "_________________________________________________________________\n",
            "batch_normalization (BatchNo (None, 1, 1, 256)         1024      \n",
            "_________________________________________________________________\n",
            "dropout_2 (Dropout)          (None, 1, 1, 256)         0         \n",
            "_________________________________________________________________\n",
            "flatten (Flatten)            (None, 256)               0         \n",
            "_________________________________________________________________\n",
            "dense (Dense)                (None, 100)               25700     \n",
            "_________________________________________________________________\n",
            "dropout_3 (Dropout)          (None, 100)               0         \n",
            "_________________________________________________________________\n",
            "batch_normalization_1 (Batch (None, 100)               400       \n",
            "_________________________________________________________________\n",
            "dense_1 (Dense)              (None, 47)                4747      \n",
            "=================================================================\n",
            "Total params: 1,176,127\n",
            "Trainable params: 1,175,415\n",
            "Non-trainable params: 712\n",
            "_________________________________________________________________\n",
            "None\n"
          ],
          "name": "stdout"
        }
      ]
    },
    {
      "cell_type": "code",
      "metadata": {
        "colab": {
          "base_uri": "https://localhost:8080/"
        },
        "id": "DVHih9l9pYZb",
        "outputId": "c9ec02e5-43b3-43fe-a8fc-e9780cc96d49"
      },
      "source": [
        "model.compile(Adam(lr = 10e-4), loss = 'categorical_crossentropy', metrics = ['accuracy'])\n",
        "history = model.fit(X_train, Y_train, epochs = 100, batch_size = 400, validation_data = (X_val, Y_val), verbose = 1)"
      ],
      "execution_count": null,
      "outputs": [
        {
          "output_type": "stream",
          "text": [
            "Epoch 1/100\n",
            "196/196 [==============================] - 11s 52ms/step - loss: 3.3597 - accuracy: 0.1710 - val_loss: 2.5789 - val_accuracy: 0.5051\n",
            "Epoch 2/100\n",
            "196/196 [==============================] - 9s 48ms/step - loss: 1.1190 - accuracy: 0.7108 - val_loss: 0.7430 - val_accuracy: 0.8912\n",
            "Epoch 3/100\n",
            "196/196 [==============================] - 9s 48ms/step - loss: 0.5120 - accuracy: 0.8717 - val_loss: 0.1394 - val_accuracy: 0.9665\n",
            "Epoch 4/100\n",
            "196/196 [==============================] - 9s 48ms/step - loss: 0.3180 - accuracy: 0.9218 - val_loss: 0.0764 - val_accuracy: 0.9769\n",
            "Epoch 5/100\n",
            "196/196 [==============================] - 9s 48ms/step - loss: 0.2276 - accuracy: 0.9425 - val_loss: 0.0491 - val_accuracy: 0.9877\n",
            "Epoch 6/100\n",
            "196/196 [==============================] - 10s 49ms/step - loss: 0.1756 - accuracy: 0.9558 - val_loss: 0.0535 - val_accuracy: 0.9838\n",
            "Epoch 7/100\n",
            "196/196 [==============================] - 10s 49ms/step - loss: 0.1520 - accuracy: 0.9614 - val_loss: 0.0431 - val_accuracy: 0.9882\n",
            "Epoch 8/100\n",
            "196/196 [==============================] - 10s 49ms/step - loss: 0.1296 - accuracy: 0.9670 - val_loss: 0.0419 - val_accuracy: 0.9878\n",
            "Epoch 9/100\n",
            "196/196 [==============================] - 10s 50ms/step - loss: 0.1147 - accuracy: 0.9704 - val_loss: 0.0454 - val_accuracy: 0.9876\n",
            "Epoch 10/100\n",
            "196/196 [==============================] - 10s 50ms/step - loss: 0.1033 - accuracy: 0.9735 - val_loss: 0.0323 - val_accuracy: 0.9912\n",
            "Epoch 11/100\n",
            "196/196 [==============================] - 10s 51ms/step - loss: 0.0949 - accuracy: 0.9750 - val_loss: 0.0297 - val_accuracy: 0.9925\n",
            "Epoch 12/100\n",
            "196/196 [==============================] - 10s 51ms/step - loss: 0.0814 - accuracy: 0.9785 - val_loss: 0.0332 - val_accuracy: 0.9914\n",
            "Epoch 13/100\n",
            "196/196 [==============================] - 10s 52ms/step - loss: 0.0783 - accuracy: 0.9797 - val_loss: 0.0340 - val_accuracy: 0.9908\n",
            "Epoch 14/100\n",
            "196/196 [==============================] - 10s 52ms/step - loss: 0.0744 - accuracy: 0.9803 - val_loss: 0.0352 - val_accuracy: 0.9906\n",
            "Epoch 15/100\n",
            "196/196 [==============================] - 10s 51ms/step - loss: 0.0706 - accuracy: 0.9816 - val_loss: 0.0329 - val_accuracy: 0.9911\n",
            "Epoch 16/100\n",
            "196/196 [==============================] - 10s 51ms/step - loss: 0.0677 - accuracy: 0.9819 - val_loss: 0.0395 - val_accuracy: 0.9888\n",
            "Epoch 17/100\n",
            "196/196 [==============================] - 10s 51ms/step - loss: 0.0636 - accuracy: 0.9829 - val_loss: 0.0326 - val_accuracy: 0.9915\n",
            "Epoch 18/100\n",
            "196/196 [==============================] - 10s 51ms/step - loss: 0.0563 - accuracy: 0.9844 - val_loss: 0.0358 - val_accuracy: 0.9914\n",
            "Epoch 19/100\n",
            "196/196 [==============================] - 10s 51ms/step - loss: 0.0599 - accuracy: 0.9837 - val_loss: 0.0334 - val_accuracy: 0.9912\n",
            "Epoch 20/100\n",
            "196/196 [==============================] - 10s 51ms/step - loss: 0.0591 - accuracy: 0.9839 - val_loss: 0.0325 - val_accuracy: 0.9913\n",
            "Epoch 21/100\n",
            "196/196 [==============================] - 10s 51ms/step - loss: 0.0498 - accuracy: 0.9860 - val_loss: 0.0320 - val_accuracy: 0.9921\n",
            "Epoch 22/100\n",
            "196/196 [==============================] - 10s 51ms/step - loss: 0.0521 - accuracy: 0.9857 - val_loss: 0.0341 - val_accuracy: 0.9934\n",
            "Epoch 23/100\n",
            "196/196 [==============================] - 10s 51ms/step - loss: 0.0478 - accuracy: 0.9872 - val_loss: 0.0307 - val_accuracy: 0.9924\n",
            "Epoch 24/100\n",
            "196/196 [==============================] - 10s 51ms/step - loss: 0.0467 - accuracy: 0.9878 - val_loss: 0.0287 - val_accuracy: 0.9929\n",
            "Epoch 25/100\n",
            "196/196 [==============================] - 10s 51ms/step - loss: 0.0435 - accuracy: 0.9885 - val_loss: 0.0316 - val_accuracy: 0.9926\n",
            "Epoch 26/100\n",
            "196/196 [==============================] - 10s 51ms/step - loss: 0.0400 - accuracy: 0.9888 - val_loss: 0.0290 - val_accuracy: 0.9932\n",
            "Epoch 27/100\n",
            "196/196 [==============================] - 10s 51ms/step - loss: 0.0429 - accuracy: 0.9885 - val_loss: 0.0239 - val_accuracy: 0.9940\n",
            "Epoch 28/100\n",
            "196/196 [==============================] - 10s 51ms/step - loss: 0.0402 - accuracy: 0.9887 - val_loss: 0.0298 - val_accuracy: 0.9934\n",
            "Epoch 29/100\n",
            "196/196 [==============================] - 10s 51ms/step - loss: 0.0416 - accuracy: 0.9885 - val_loss: 0.0278 - val_accuracy: 0.9943\n",
            "Epoch 30/100\n",
            "196/196 [==============================] - 10s 51ms/step - loss: 0.0347 - accuracy: 0.9905 - val_loss: 0.0282 - val_accuracy: 0.9935\n",
            "Epoch 31/100\n",
            "196/196 [==============================] - 10s 51ms/step - loss: 0.0379 - accuracy: 0.9892 - val_loss: 0.0306 - val_accuracy: 0.9935\n",
            "Epoch 32/100\n",
            "196/196 [==============================] - 10s 51ms/step - loss: 0.0393 - accuracy: 0.9895 - val_loss: 0.0320 - val_accuracy: 0.9930\n",
            "Epoch 33/100\n",
            "196/196 [==============================] - 10s 51ms/step - loss: 0.0383 - accuracy: 0.9889 - val_loss: 0.0347 - val_accuracy: 0.9925\n",
            "Epoch 34/100\n",
            "196/196 [==============================] - 10s 51ms/step - loss: 0.0370 - accuracy: 0.9899 - val_loss: 0.0262 - val_accuracy: 0.9938\n",
            "Epoch 35/100\n",
            "196/196 [==============================] - 10s 51ms/step - loss: 0.0332 - accuracy: 0.9909 - val_loss: 0.0279 - val_accuracy: 0.9942\n",
            "Epoch 36/100\n",
            "196/196 [==============================] - 10s 51ms/step - loss: 0.0381 - accuracy: 0.9898 - val_loss: 0.0278 - val_accuracy: 0.9934\n",
            "Epoch 37/100\n",
            "196/196 [==============================] - 10s 51ms/step - loss: 0.0334 - accuracy: 0.9906 - val_loss: 0.0327 - val_accuracy: 0.9938\n",
            "Epoch 38/100\n",
            "196/196 [==============================] - 10s 51ms/step - loss: 0.0312 - accuracy: 0.9916 - val_loss: 0.0302 - val_accuracy: 0.9932\n",
            "Epoch 39/100\n",
            "196/196 [==============================] - 10s 51ms/step - loss: 0.0338 - accuracy: 0.9908 - val_loss: 0.0274 - val_accuracy: 0.9942\n",
            "Epoch 40/100\n",
            "196/196 [==============================] - 10s 51ms/step - loss: 0.0318 - accuracy: 0.9916 - val_loss: 0.0275 - val_accuracy: 0.9946\n",
            "Epoch 41/100\n",
            "196/196 [==============================] - 10s 51ms/step - loss: 0.0325 - accuracy: 0.9908 - val_loss: 0.0301 - val_accuracy: 0.9938\n",
            "Epoch 42/100\n",
            "196/196 [==============================] - 10s 51ms/step - loss: 0.0319 - accuracy: 0.9914 - val_loss: 0.0289 - val_accuracy: 0.9942\n",
            "Epoch 43/100\n",
            "196/196 [==============================] - 10s 51ms/step - loss: 0.0291 - accuracy: 0.9922 - val_loss: 0.0286 - val_accuracy: 0.9936\n",
            "Epoch 44/100\n",
            "196/196 [==============================] - 10s 51ms/step - loss: 0.0301 - accuracy: 0.9910 - val_loss: 0.0263 - val_accuracy: 0.9947\n",
            "Epoch 45/100\n",
            "196/196 [==============================] - 10s 51ms/step - loss: 0.0267 - accuracy: 0.9928 - val_loss: 0.0247 - val_accuracy: 0.9942\n",
            "Epoch 46/100\n",
            "196/196 [==============================] - 10s 51ms/step - loss: 0.0277 - accuracy: 0.9925 - val_loss: 0.0250 - val_accuracy: 0.9952\n",
            "Epoch 47/100\n",
            "196/196 [==============================] - 10s 51ms/step - loss: 0.0259 - accuracy: 0.9924 - val_loss: 0.0294 - val_accuracy: 0.9938\n",
            "Epoch 48/100\n",
            "196/196 [==============================] - 10s 51ms/step - loss: 0.0255 - accuracy: 0.9924 - val_loss: 0.0262 - val_accuracy: 0.9943\n",
            "Epoch 49/100\n",
            "196/196 [==============================] - 10s 51ms/step - loss: 0.0275 - accuracy: 0.9927 - val_loss: 0.0263 - val_accuracy: 0.9946\n",
            "Epoch 50/100\n",
            "196/196 [==============================] - 10s 51ms/step - loss: 0.0262 - accuracy: 0.9927 - val_loss: 0.0234 - val_accuracy: 0.9944\n",
            "Epoch 51/100\n",
            "196/196 [==============================] - 10s 51ms/step - loss: 0.0273 - accuracy: 0.9930 - val_loss: 0.0278 - val_accuracy: 0.9936\n",
            "Epoch 52/100\n",
            "196/196 [==============================] - 10s 51ms/step - loss: 0.0252 - accuracy: 0.9929 - val_loss: 0.0262 - val_accuracy: 0.9944\n",
            "Epoch 53/100\n",
            "196/196 [==============================] - 10s 51ms/step - loss: 0.0223 - accuracy: 0.9940 - val_loss: 0.0271 - val_accuracy: 0.9938\n",
            "Epoch 54/100\n",
            "196/196 [==============================] - 10s 51ms/step - loss: 0.0241 - accuracy: 0.9932 - val_loss: 0.0245 - val_accuracy: 0.9949\n",
            "Epoch 55/100\n",
            "196/196 [==============================] - 10s 51ms/step - loss: 0.0252 - accuracy: 0.9932 - val_loss: 0.0248 - val_accuracy: 0.9946\n",
            "Epoch 56/100\n",
            "196/196 [==============================] - 10s 51ms/step - loss: 0.0211 - accuracy: 0.9938 - val_loss: 0.0287 - val_accuracy: 0.9944\n",
            "Epoch 57/100\n",
            "196/196 [==============================] - 10s 51ms/step - loss: 0.0239 - accuracy: 0.9933 - val_loss: 0.0282 - val_accuracy: 0.9944\n",
            "Epoch 58/100\n",
            "196/196 [==============================] - 10s 51ms/step - loss: 0.0227 - accuracy: 0.9937 - val_loss: 0.0248 - val_accuracy: 0.9948\n",
            "Epoch 59/100\n",
            "196/196 [==============================] - 10s 51ms/step - loss: 0.0212 - accuracy: 0.9938 - val_loss: 0.0279 - val_accuracy: 0.9949\n",
            "Epoch 60/100\n",
            "196/196 [==============================] - 10s 51ms/step - loss: 0.0213 - accuracy: 0.9938 - val_loss: 0.0320 - val_accuracy: 0.9938\n",
            "Epoch 61/100\n",
            "196/196 [==============================] - 10s 51ms/step - loss: 0.0219 - accuracy: 0.9937 - val_loss: 0.0278 - val_accuracy: 0.9943\n",
            "Epoch 62/100\n",
            "196/196 [==============================] - 10s 51ms/step - loss: 0.0191 - accuracy: 0.9945 - val_loss: 0.0291 - val_accuracy: 0.9946\n",
            "Epoch 63/100\n",
            "196/196 [==============================] - 10s 51ms/step - loss: 0.0206 - accuracy: 0.9942 - val_loss: 0.0269 - val_accuracy: 0.9947\n",
            "Epoch 64/100\n",
            "196/196 [==============================] - 10s 51ms/step - loss: 0.0200 - accuracy: 0.9945 - val_loss: 0.0314 - val_accuracy: 0.9942\n",
            "Epoch 65/100\n",
            "196/196 [==============================] - 10s 51ms/step - loss: 0.0205 - accuracy: 0.9945 - val_loss: 0.0321 - val_accuracy: 0.9934\n",
            "Epoch 66/100\n",
            "196/196 [==============================] - 10s 51ms/step - loss: 0.0207 - accuracy: 0.9936 - val_loss: 0.0324 - val_accuracy: 0.9934\n",
            "Epoch 67/100\n",
            "196/196 [==============================] - 10s 51ms/step - loss: 0.0195 - accuracy: 0.9947 - val_loss: 0.0293 - val_accuracy: 0.9944\n",
            "Epoch 68/100\n",
            "196/196 [==============================] - 10s 51ms/step - loss: 0.0185 - accuracy: 0.9946 - val_loss: 0.0263 - val_accuracy: 0.9947\n",
            "Epoch 69/100\n",
            "196/196 [==============================] - 10s 51ms/step - loss: 0.0218 - accuracy: 0.9941 - val_loss: 0.0302 - val_accuracy: 0.9936\n",
            "Epoch 70/100\n",
            "196/196 [==============================] - 10s 51ms/step - loss: 0.0204 - accuracy: 0.9944 - val_loss: 0.0268 - val_accuracy: 0.9947\n",
            "Epoch 71/100\n",
            "196/196 [==============================] - 10s 51ms/step - loss: 0.0171 - accuracy: 0.9949 - val_loss: 0.0291 - val_accuracy: 0.9940\n",
            "Epoch 72/100\n",
            "196/196 [==============================] - 10s 51ms/step - loss: 0.0186 - accuracy: 0.9947 - val_loss: 0.0301 - val_accuracy: 0.9949\n",
            "Epoch 73/100\n",
            "196/196 [==============================] - 10s 51ms/step - loss: 0.0199 - accuracy: 0.9943 - val_loss: 0.0334 - val_accuracy: 0.9944\n",
            "Epoch 74/100\n",
            "196/196 [==============================] - 10s 51ms/step - loss: 0.0195 - accuracy: 0.9946 - val_loss: 0.0287 - val_accuracy: 0.9948\n",
            "Epoch 75/100\n",
            "196/196 [==============================] - 10s 51ms/step - loss: 0.0219 - accuracy: 0.9942 - val_loss: 0.0280 - val_accuracy: 0.9952\n",
            "Epoch 76/100\n",
            "196/196 [==============================] - 10s 51ms/step - loss: 0.0166 - accuracy: 0.9954 - val_loss: 0.0306 - val_accuracy: 0.9940\n",
            "Epoch 77/100\n",
            "196/196 [==============================] - 10s 51ms/step - loss: 0.0198 - accuracy: 0.9948 - val_loss: 0.0302 - val_accuracy: 0.9950\n",
            "Epoch 78/100\n",
            "196/196 [==============================] - 10s 51ms/step - loss: 0.0189 - accuracy: 0.9944 - val_loss: 0.0325 - val_accuracy: 0.9940\n",
            "Epoch 79/100\n",
            "196/196 [==============================] - 10s 51ms/step - loss: 0.0157 - accuracy: 0.9955 - val_loss: 0.0288 - val_accuracy: 0.9952\n",
            "Epoch 80/100\n",
            "196/196 [==============================] - 10s 51ms/step - loss: 0.0163 - accuracy: 0.9950 - val_loss: 0.0232 - val_accuracy: 0.9946\n",
            "Epoch 81/100\n",
            "196/196 [==============================] - 10s 51ms/step - loss: 0.0171 - accuracy: 0.9953 - val_loss: 0.0272 - val_accuracy: 0.9950\n",
            "Epoch 82/100\n",
            "196/196 [==============================] - 10s 51ms/step - loss: 0.0158 - accuracy: 0.9958 - val_loss: 0.0335 - val_accuracy: 0.9949\n",
            "Epoch 83/100\n",
            "196/196 [==============================] - 10s 51ms/step - loss: 0.0173 - accuracy: 0.9949 - val_loss: 0.0308 - val_accuracy: 0.9946\n",
            "Epoch 84/100\n",
            "196/196 [==============================] - 10s 51ms/step - loss: 0.0149 - accuracy: 0.9959 - val_loss: 0.0278 - val_accuracy: 0.9952\n",
            "Epoch 85/100\n",
            "196/196 [==============================] - 10s 51ms/step - loss: 0.0163 - accuracy: 0.9952 - val_loss: 0.0290 - val_accuracy: 0.9954\n",
            "Epoch 86/100\n",
            "196/196 [==============================] - 10s 51ms/step - loss: 0.0159 - accuracy: 0.9956 - val_loss: 0.0323 - val_accuracy: 0.9955\n",
            "Epoch 87/100\n",
            "196/196 [==============================] - 10s 51ms/step - loss: 0.0145 - accuracy: 0.9960 - val_loss: 0.0667 - val_accuracy: 0.9928\n",
            "Epoch 88/100\n",
            "196/196 [==============================] - 10s 51ms/step - loss: 0.0181 - accuracy: 0.9950 - val_loss: 0.0263 - val_accuracy: 0.9950\n",
            "Epoch 89/100\n",
            "196/196 [==============================] - 10s 51ms/step - loss: 0.0148 - accuracy: 0.9956 - val_loss: 0.0306 - val_accuracy: 0.9948\n",
            "Epoch 90/100\n",
            "196/196 [==============================] - 10s 51ms/step - loss: 0.0158 - accuracy: 0.9954 - val_loss: 0.0292 - val_accuracy: 0.9948\n",
            "Epoch 91/100\n",
            "196/196 [==============================] - 10s 51ms/step - loss: 0.0150 - accuracy: 0.9960 - val_loss: 0.0311 - val_accuracy: 0.9950\n",
            "Epoch 92/100\n",
            "196/196 [==============================] - 10s 51ms/step - loss: 0.0157 - accuracy: 0.9955 - val_loss: 0.0246 - val_accuracy: 0.9955\n",
            "Epoch 93/100\n",
            "196/196 [==============================] - 10s 51ms/step - loss: 0.0142 - accuracy: 0.9958 - val_loss: 0.0255 - val_accuracy: 0.9955\n",
            "Epoch 94/100\n",
            "196/196 [==============================] - 10s 51ms/step - loss: 0.0138 - accuracy: 0.9960 - val_loss: 0.0300 - val_accuracy: 0.9952\n",
            "Epoch 95/100\n",
            "196/196 [==============================] - 10s 51ms/step - loss: 0.0169 - accuracy: 0.9952 - val_loss: 0.0317 - val_accuracy: 0.9947\n",
            "Epoch 96/100\n",
            "196/196 [==============================] - 10s 51ms/step - loss: 0.0147 - accuracy: 0.9959 - val_loss: 0.0292 - val_accuracy: 0.9958\n",
            "Epoch 97/100\n",
            "196/196 [==============================] - 10s 51ms/step - loss: 0.0169 - accuracy: 0.9951 - val_loss: 0.0277 - val_accuracy: 0.9953\n",
            "Epoch 98/100\n",
            "196/196 [==============================] - 10s 51ms/step - loss: 0.0165 - accuracy: 0.9956 - val_loss: 0.0296 - val_accuracy: 0.9954\n",
            "Epoch 99/100\n",
            "196/196 [==============================] - 10s 51ms/step - loss: 0.0137 - accuracy: 0.9961 - val_loss: 0.0324 - val_accuracy: 0.9955\n",
            "Epoch 100/100\n",
            "196/196 [==============================] - 10s 51ms/step - loss: 0.0154 - accuracy: 0.9953 - val_loss: 0.0273 - val_accuracy: 0.9958\n"
          ],
          "name": "stdout"
        }
      ]
    },
    {
      "cell_type": "code",
      "metadata": {
        "colab": {
          "base_uri": "https://localhost:8080/",
          "height": 295
        },
        "id": "bqlo4AdLpYGB",
        "outputId": "4505ad3b-81d4-44e8-c226-a0cef1e7afbe"
      },
      "source": [
        "import matplotlib.pyplot as plt\n",
        "# Plot training & validation accuracy values\n",
        "plt.plot(history.history['accuracy'])\n",
        "plt.plot(history.history['val_accuracy'])\n",
        "plt.title('Model accuracy')\n",
        "plt.ylabel('Accuracy')\n",
        "plt.xlabel('Epoch')\n",
        "plt.legend(['Train', 'Validation'], loc='upper left')\n",
        "plt.show()\n"
      ],
      "execution_count": 27,
      "outputs": [
        {
          "output_type": "display_data",
          "data": {
            "image/png": "[encoded data removed]",
            "text/plain": [
              "<Figure size 432x288 with 1 Axes>"
            ]
          },
          "metadata": {
            "tags": [],
            "needs_background": "light"
          }
        }
      ]
    },
    {
      "cell_type": "code",
      "metadata": {
        "colab": {
          "base_uri": "https://localhost:8080/",
          "height": 295
        },
        "id": "HdFP3xIkpX21",
        "outputId": "af17dc08-aa71-499a-e774-e220439241e9"
      },
      "source": [
        "# Plot training & validation loss values\n",
        "plt.plot(history.history['loss'])\n",
        "plt.plot(history.history['val_loss'])\n",
        "plt.title('Model loss')\n",
        "plt.ylabel('Loss')\n",
        "plt.xlabel('Epoch')\n",
        "plt.legend(['Train', 'Validation'], loc='upper left')\n",
        "plt.show()"
      ],
      "execution_count": 28,
      "outputs": [
        {
          "output_type": "display_data",
          "data": {
            "image/png": "[encoded data removed]",
            "text/plain": [
              "<Figure size 432x288 with 1 Axes>"
            ]
          },
          "metadata": {
            "tags": [],
            "needs_background": "light"
          }
        }
      ]
    },
    {
      "cell_type": "code",
      "metadata": {
        "id": "LkTwPRO1pifM"
      },
      "source": [
        "model.save('HWCR-Hindi-Model.h5')"
      ],
      "execution_count": 29,
      "outputs": []
    },
    {
      "cell_type": "code",
      "metadata": {
        "colab": {
          "base_uri": "https://localhost:8080/"
        },
        "id": "8sdJ7uKbpiPn",
        "outputId": "b184e1b5-0a8e-40e8-fc8f-1630a043ea87"
      },
      "source": [
        "model.evaluate(X_test, Y_test, batch_size = 400, verbose =1)"
      ],
      "execution_count": 30,
      "outputs": [
        {
          "output_type": "stream",
          "text": [
            "14/14 [==============================] - 0s 34ms/step - loss: 0.0320 - accuracy: 0.9946\n"
          ],
          "name": "stdout"
        },
        {
          "output_type": "execute_result",
          "data": {
            "text/plain": [
              "[0.03198523446917534, 0.9945651888847351]"
            ]
          },
          "metadata": {
            "tags": []
          },
          "execution_count": 30
        }
      ]
    },
    {
      "cell_type": "code",
      "metadata": {
        "colab": {
          "base_uri": "https://localhost:8080/"
        },
        "id": "KzRwupmUpiGC",
        "outputId": "5b8809db-b9b4-4239-eaa8-42798ed09674"
      },
      "source": [
        "model.metrics_names"
      ],
      "execution_count": 31,
      "outputs": [
        {
          "output_type": "execute_result",
          "data": {
            "text/plain": [
              "['loss', 'accuracy']"
            ]
          },
          "metadata": {
            "tags": []
          },
          "execution_count": 31
        }
      ]
    },
    {
      "cell_type": "code",
      "metadata": {
        "id": "Sa4H_cRWTAMT"
      },
      "source": [
        "#model = load_model('HWCR-Hindi-Model.h')"
      ],
      "execution_count": 32,
      "outputs": []
    },
    {
      "cell_type": "code",
      "metadata": {
        "colab": {
          "base_uri": "https://localhost:8080/",
          "height": 300
        },
        "id": "fzg6hXj9-UMX",
        "outputId": "4843c46f-d133-464f-fee9-6ce1c872a395"
      },
      "source": [
        "predicted = model.predict(x = X_test, verbose = 1)\n",
        "index = 789\n",
        "img = X_test[index]\n",
        "img = img.reshape((32,32))\n",
        "plt.imshow(img)\n",
        "predicted = np.argmax(predicted, axis = 1)\n",
        "print(ref[predicted[index]])\n"
      ],
      "execution_count": 33,
      "outputs": [
        {
          "output_type": "stream",
          "text": [
            "173/173 [==============================] - 1s 3ms/step\n",
            "ba\n"
          ],
          "name": "stdout"
        },
        {
          "output_type": "display_data",
          "data": {
            "image/png": "[encoded data removed]",
            "text/plain": [
              "<Figure size 432x288 with 1 Axes>"
            ]
          },
          "metadata": {
            "tags": [],
            "needs_background": "light"
          }
        }
      ]
    },
    {
      "cell_type": "code",
      "metadata": {
        "id": "XyrJ-ncORvgY"
      },
      "source": [
        ""
      ],
      "execution_count": null,
      "outputs": []
    },
    {
      "cell_type": "code",
      "metadata": {
        "id": "0Cdon7m2S2s7"
      },
      "source": [
        "#import the necessary libraries\n",
        "import numpy as np\n",
        "import matplotlib.pyplot as plt\n",
        "import os\n",
        "import keras\n",
        "from keras.models import *\n",
        "from keras.layers import *\n",
        "from keras.optimizers import *\n",
        "from keras.utils import *\n",
        "from keras.optimizers import Adam\n",
        "import pandas as pd\n",
        "import skimage.io as io\n",
        "import cv2\n",
        "from PIL import Image\n",
        "from sklearn.model_selection import train_test_split\n",
        "from sklearn.model_selection import train_test_split\n",
        "from sklearn.utils import shuffle\n",
        "\n",
        "#%cd /content/drive/MyDrive/Kaggle/DevanagariHandwrittenCharacterDataset/\n",
        "\n",
        "train_dir = os.listdir('Train')\n",
        "test_dir = os.listdir('Test')\n",
        "\n",
        "def create_train_data():\n",
        "    ref = {}\n",
        "    X_train = []\n",
        "    Y_train = []\n",
        "    for i in range(0,10,1):\n",
        "        p = 37+i\n",
        "        ref[p] = i\n",
        "    for names in train_dir:\n",
        "        x = names.split('_')\n",
        "        if x[0]=='character':\n",
        "            ref[int(x[1])] = x[2]\n",
        "        di = 'Train/'+names\n",
        "        images = os.listdir(di)\n",
        "        for files in images:\n",
        "            files = di+'/'+files\n",
        "            img = io.imread(files)\n",
        "            X_train.append(img)\n",
        "            if x[0]=='character':\n",
        "                Y_train.append(int(x[1]))\n",
        "            elif x[0]=='digit':\n",
        "                Y_train.append(37 + int(x[1]))\n",
        "    X_train = np.array(X_train)\n",
        "    Y_train = np.asarray(Y_train)\n",
        "    return X_train, Y_train, ref\n",
        "\n",
        "X_train, Y_train, ref = create_train_data()\n",
        "\n",
        "def create_test_data():\n",
        "    X_test = []\n",
        "    Y_test = []\n",
        "    for names in test_dir:\n",
        "        x = names.split('_')\n",
        "        di = 'Test/'+names\n",
        "        images = os.listdir(di)\n",
        "        for files in images:\n",
        "            files = di+'/'+files\n",
        "            img = io.imread(files)\n",
        "            X_test.append(img)\n",
        "            if x[0]=='character':\n",
        "                Y_test.append(int(x[1]))\n",
        "            elif x[0]=='digit':\n",
        "                Y_test.append(37 + int(x[1]))\n",
        "    X_test = np.array(X_test)\n",
        "    Y_test = np.asarray(Y_test)\n",
        "    return X_test, Y_test\n",
        "\n",
        "X_test, Y_test = create_test_data()\n",
        "\n",
        "X_train = X_train.reshape([78200,-1])\n",
        "print(X_train.shape)\n",
        "df = pd.DataFrame(X_train)\n",
        "df.to_csv('X_train.csv')\n",
        "\n",
        "print(X_test.shape)\n",
        "X_test = X_test.reshape([13800,1024])\n",
        "print(X_test.shape)\n",
        "df = pd.DataFrame(X_test)\n",
        "df.to_csv('X_test.csv')\n",
        "\n",
        "Y_train = Y_train.reshape([78200,-1])\n",
        "print(Y_train.shape)\n",
        "df = pd.DataFrame(Y_train)\n",
        "df.to_csv('Y_train.csv')\n",
        "\n",
        "Y_test = Y_test.reshape([13800,-1])\n",
        "print(Y_test.shape)\n",
        "df = pd.DataFrame(Y_test)\n",
        "df.to_csv('Y_test.csv')\n",
        "\n",
        "np.save('References.npy',ref)\n",
        "os.listdir()\n",
        "\n",
        "X_train = pd.read_csv('X_train.csv')\n",
        "X_train = X_train.drop(X_train.columns[0], axis = 1)\n",
        "X_train = np.array(X_train)\n",
        "\n",
        "Y_train = pd.read_csv('Y_train.csv')\n",
        "Y_train = Y_train.drop(Y_train.columns[0], axis = 1)\n",
        "Y_train = np.array(Y_train)\n",
        "\n",
        "X_test = pd.read_csv('X_test.csv')\n",
        "X_test = X_test.drop(X_test.columns[0], axis = 1)\n",
        "X_test = np.array(X_test)\n",
        "\n",
        "Y_test = pd.read_csv('Y_test.csv')\n",
        "Y_test = Y_test.drop(Y_test.columns[0], axis = 1)\n",
        "Y_test = np.array(Y_test)\n",
        "\n",
        "X_train = X_train.reshape((78200,32,32,1))\n",
        "print(X_train.shape)\n",
        "Y_train = Y_train.reshape((78200,1))\n",
        "print(Y_train.shape)\n",
        "X_test = X_test.reshape((13800,32,32,1))\n",
        "print(X_test.shape)\n",
        "Y_test = Y_test.reshape((13800,1))\n",
        "print(Y_test.shape)\n",
        "\n",
        "X_train = X_train/255\n",
        "X_test = X_test/255\n",
        "\n",
        "X_train, Y_train = shuffle(X_train, Y_train, random_state = 2)\n",
        "X_test, Y_test = shuffle(X_test, Y_test, random_state = 0)\n",
        "\n",
        "X_test, X_val, Y_test, Y_val = train_test_split(X_test, Y_test, test_size = 0.6, random_state = 1)\n",
        "print(X_test.shape)\n",
        "print(X_val.shape)\n",
        "\n",
        "Y_test = to_categorical(Y_test)\n",
        "print(Y_test.shape)\n",
        "\n",
        "Y_val = to_categorical(Y_val)\n",
        "print(Y_val.shape)\n",
        "\n",
        "Y_train = to_categorical(Y_train)\n",
        "print(Y_train.shape)\n",
        "\n",
        "#HWCR-Hindi-Model\n",
        "\n",
        "model = Sequential()\n",
        "model.add(Conv2D(64, (3, 3), padding='same', input_shape=(32, 32, 1), activation = 'relu'))\n",
        "model.add(Conv2D(64, (3, 3), activation = 'relu'))\n",
        "model.add(MaxPooling2D(pool_size=(2, 2)))\n",
        "model.add(Dropout(0.5))\n",
        "\n",
        "model.add(Conv2D(128, (3, 3), activation = 'relu'))\n",
        "model.add(Conv2D(128, (3, 3), activation = 'relu'))\n",
        "model.add(MaxPooling2D(pool_size=(2, 2)))\n",
        "model.add(Dropout(0.5))\n",
        "\n",
        "model.add(Conv2D(256, (3, 3), activation = 'relu'))\n",
        "model.add(Conv2D(256, (3, 3), activation = 'relu'))\n",
        "model.add(BatchNormalization())\n",
        "model.add(Dropout(0.5))\n",
        "\n",
        "model.add(Flatten())\n",
        "model.add(Dense(100, activation='relu'))\n",
        "model.add(Dropout(0.5))\n",
        "model.add(BatchNormalization())\n",
        "model.add(Dense(47, activation='softmax'))\n",
        "\n",
        "print(model.summary())\n",
        "\n",
        "model.compile(Adam(lr = 10e-4), loss = 'categorical_crossentropy', metrics = ['accuracy'])\n",
        "history = model.fit(X_train, Y_train, epochs = 80, batch_size = 400, validation_data = (X_val, Y_val), verbose = 1)\n",
        "\n",
        "\n",
        "# Plot training & validation accuracy values\n",
        "plt.plot(history.history['accuracy'])\n",
        "plt.plot(history.history['val_accuracy'])\n",
        "plt.title('Model accuracy')\n",
        "plt.ylabel('Accuracy')\n",
        "plt.xlabel('Epoch')\n",
        "plt.legend(['Train', 'Validation'], loc='upper left')\n",
        "plt.show()\n",
        "\n",
        "# Plot training & validation loss values\n",
        "plt.plot(history.history['loss'])\n",
        "plt.plot(history.history['val_loss'])\n",
        "plt.title('Model loss')\n",
        "plt.ylabel('Loss')\n",
        "plt.xlabel('Epoch')\n",
        "plt.legend(['Train', 'Validation'], loc='upper left')\n",
        "plt.show()\n",
        "\n",
        "# Save the model\n",
        "model.save('HWCR-Hindi-Model.h5')\n",
        "model.evaluate(X_test, Y_test, batch_size = 400, verbose =1)\n",
        "model.metrics_names\n",
        "\n",
        "# Test the model on various images in test set\n",
        "predicted = model.predict(x = X_test, verbose = 1)\n",
        "index = 789\n",
        "img = X_test[index]\n",
        "img = img.reshape((32,32))\n",
        "plt.imshow(img)\n",
        "predicted = np.argmax(predicted, axis = 1)\n",
        "print(ref[predicted[index]])"
      ],
      "execution_count": null,
      "outputs": []
    }
  ]
}